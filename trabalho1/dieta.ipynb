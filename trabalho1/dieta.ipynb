{
 "cells": [
  {
   "cell_type": "code",
   "execution_count": 2,
   "metadata": {},
   "outputs": [],
   "source": [
    "import csv\n",
    "''' Depois de tratar o texto, e guardar os csv's em (letras.csv), (nutricao.csv)\n",
    "    Podemos de fato começar a aplicar o método do simplex para determinar as melhores dietas'''\n",
    "\n",
    "nomes = ['HENRIQUE','LUCAS','RAFAEL'] #nossos nomes\n",
    "\n",
    "#nutrientes da que nossa dieta precisa satisfazer \n",
    "nutrientes_minimos = ['Caloria','Calcio','VitaminaA','Riboflavina','AcidoAscorbico'] \n",
    "\n",
    "dieta_prodx_por_letra = dict() #dicionario de letra para dieta e prodx\n",
    "with open('letras.csv',newline='') as csvfile:\n",
    "    reader = csv.DictReader(csvfile)\n",
    "    for row in reader:\n",
    "        dieta_prodx_por_letra[row['Letra']] = (float(row['Dieta']),float(row['ProdutoX']))"
   ]
  },
  {
   "cell_type": "markdown",
   "metadata": {},
   "source": [
    "Vamos definir agora nosso problema de minimização!\n",
    "\n",
    "Se gostaríamos de reduzir o custo, nossas variáveis serão todas $x_i$, onde $x_i$ significa quantos dólares gastamos no alimento $i$.\n",
    "Como o médico nos passou quantidades mínimas para suprir de nutrientes, essas quantidades formarão nossa matriz de restrição.\n",
    "\n",
    "Teremos algo do tipo:\n",
    "$$\n",
    "    x_1c_1 + x_2c_2 + ... + x_nc_n \\geq c\\\\\n",
    "    x_1p_1 + x_2p_2 + ... + x_np_n \\geq p\\\\\n",
    "    x_1v_1 + x_2v_2 + ... + x_nv_n \\geq v\\\\\n",
    "    x_1r_1 + x_2r_2 + ... + x_nr_n \\geq r\\\\\n",
    "    x_1a_1 + x_2a_2 + ... + x_na_n \\geq a\\\\\n",
    "$$\n",
    "\n",
    "Onde $c_i$ é quanto de calórias o alimento $i$ dá por unidade de dolar gasto e $c$ é a quantidade mínima de calorias que o médico nos recomendou. (Fiz a mesma coisa para os outros nutrientes)\n",
    "\n",
    "Como isso não está exatamente na forma padrão, teremos que multiplicar por -1 todas as linhas, de forma a tornar todo $\\geq$ em $\\leq$."
   ]
  },
  {
   "cell_type": "markdown",
   "metadata": {},
   "source": []
  },
  {
   "cell_type": "code",
   "execution_count": 3,
   "metadata": {},
   "outputs": [],
   "source": [
    "''' ideia \n",
    "M = [ [c1,c2,c3,...,cn],\n",
    "      [p1,p2,p3,...,pn],\n",
    "      ...\n",
    "    ]\n",
    "'''\n",
    "alimentos = []\n",
    "with open('nutricao.csv','r',newline='') as csvfile:\n",
    "    reader = csv.DictReader(csvfile)\n",
    "    for row in reader:\n",
    "        alimentos.append(row)"
   ]
  },
  {
   "cell_type": "code",
   "execution_count": null,
   "metadata": {},
   "outputs": [],
   "source": [
    "mercadorias_disponiveis = ['Farinhadetrigo(enriquecida)','Leite evaporado (lata)','Queijo (cheddar)',\n",
    "                     'Fígado (boi)','Espinafre','Batata-doce','Feijão verde. seco']\n",
    "\n",
    "alimentos_disponiveis = []\n",
    "for a in alimentos:\n",
    "    if a['Mercadoria'] in mercadorias_disponiveis:\n",
    "        alimentos_disponiveis.append(a)\n",
    "alimentos_disponiveis"
   ]
  },
  {
   "cell_type": "markdown",
   "metadata": {},
   "source": [
    "Depois de conseguir resultados estranhos, percebi que as dimensões passadas pelo médico e pelas tabelas estão em dimensões diferentes:\n",
    "- Dimensão Dieta: **$10^2$ calorias, $10^{-2}$ gramas, $10^2$ unidades internacionais, $10^{-1}$ miligramas e miligrama.**\n",
    "- Dimensões Produto X: **$10^3$ calorias/dólar, $10^{−1}$ gramas/dólar, $10^3$ unidades internacionais/dólar, $10^{−1}$ miligramas/dólar, miligramas/dólar.**"
   ]
  },
  {
   "cell_type": "code",
   "execution_count": 5,
   "metadata": {},
   "outputs": [],
   "source": [
    "tabela_sem_prod_x = []\n",
    "for nutriente in nutrientes_minimos:\n",
    "    linha_nutri = [float(x[nutriente]) for x in alimentos]\n",
    "    tabela_sem_prod_x.append(linha_nutri)\n"
   ]
  },
  {
   "cell_type": "code",
   "execution_count": null,
   "metadata": {},
   "outputs": [],
   "source": [
    "tabela_loja = []\n",
    "for nutriente in nutrientes_minimos:\n",
    "    linha_nutri = [float(x[nutriente]) for x in alimentos_disponiveis]\n",
    "    tabela_loja.append(linha_nutri)\n",
    "tabela_loja"
   ]
  },
  {
   "cell_type": "code",
   "execution_count": 7,
   "metadata": {},
   "outputs": [],
   "source": [
    "#com a matriz de restrição sem o produto X pronta, já estamos quase finalizados, basta descobrir quanto produto X nos dá e o B para cada nome!\n",
    "from copy import deepcopy\n",
    "import numpy as np\n",
    "import scipy.optimize\n",
    "\n",
    "conversao_dieta = [10**-1, 10**-2, 10**-1, 10**-1, 1] # para conversão da restrição\n",
    "conversao_prod_x = [1,10**-1,1,10**-1,1] # para conversao do produto x\n",
    "\n",
    "def matriz_todos_alimentos(nome:str):\n",
    "    nome = nome.upper()\n",
    "    m = deepcopy(tabela_sem_prod_x)\n",
    "    for i in range(5): #são cinco nutrientes\n",
    "        if i < len(nome) and nome[i] in dieta_prodx_por_letra:\n",
    "            letra = nome[i]\n",
    "            val = float(dieta_prodx_por_letra[letra][1]) * conversao_prod_x[i]\n",
    "            m[i].append(val)\n",
    "        else: \n",
    "            m[i].append(0.)\n",
    "    return np.matrix(m)\n",
    "\n",
    "def matriz_loja(nome:str):\n",
    "    nome = nome.upper()\n",
    "    m = deepcopy(tabela_loja)\n",
    "    for i in range(5): #são cinco nutrientes\n",
    "        if i < len(nome) and nome[i] in dieta_prodx_por_letra:\n",
    "            letra = nome[i]\n",
    "            val = float(dieta_prodx_por_letra[letra][1]) * conversao_prod_x[i]\n",
    "            m[i].append(val)\n",
    "        else: \n",
    "            m[i].append(0.)\n",
    "    return np.matrix(m)\n",
    "\n",
    "\n",
    "\n",
    "def restricoes(nome:str):\n",
    "    nome = nome.upper()\n",
    "    r = []\n",
    "    for i in range(5):\n",
    "        if i < len(nome) and nome[i] in dieta_prodx_por_letra:\n",
    "            letra = nome[i]\n",
    "            val = float(dieta_prodx_por_letra[letra][0]) * conversao_dieta[i]\n",
    "            r.append(val)\n",
    "        else:\n",
    "            r.append(0.)\n",
    "    return np.array(r)\n",
    "\n",
    "\n",
    "\n",
    "def dieta(nome:str,method:str):\n",
    "    m = -matriz_loja(nome)\n",
    "    r = -restricoes(nome)\n",
    "    c = np.ones(len(alimentos_disponiveis) + 1) # esse é o funcional linear que será minizado\n",
    "    return scipy.optimize.linprog(c=c,A_ub=m,b_ub=r,method=method)"
   ]
  },
  {
   "cell_type": "markdown",
   "metadata": {},
   "source": [
    "# Respostas letra A\n",
    "Aqui temos os valores obtidos para cada pessoa\n",
    "- nome\n",
    "- LUCAS\n",
    "- RAFAEL"
   ]
  },
  {
   "cell_type": "code",
   "execution_count": null,
   "metadata": {},
   "outputs": [],
   "source": [
    "print(dieta('henrique','highs'))\n",
    "ar = dieta('henrique','highs').x\n",
    "ar.shape = (8,1)\n",
    "\n",
    "matriz_loja('henrique')*ar"
   ]
  },
  {
   "cell_type": "code",
   "execution_count": null,
   "metadata": {},
   "outputs": [],
   "source": [
    "print(dieta('lucas','highs'))\n",
    "ar = dieta('lucas','highs').x\n",
    "ar.shape = (8,1)\n",
    "\n",
    "matriz_loja('lucas')*ar"
   ]
  },
  {
   "cell_type": "code",
   "execution_count": null,
   "metadata": {},
   "outputs": [],
   "source": [
    "print(dieta('rafael','simplex'))\n",
    "ar = dieta('rafael','simplex').x\n",
    "ar.shape = (8,1)\n",
    "\n",
    "matriz_loja('rafael')*ar"
   ]
  },
  {
   "cell_type": "markdown",
   "metadata": {},
   "source": [
    "# Letra b\n",
    "Quanto cada um estará disposto a pagar pela vitamina A? riboflavina pura?\n",
    "\n",
    "Estariamos dispostos a pagar o mínimo usando qualquer alimento (ele estando presente ou não na loja)."
   ]
  },
  {
   "cell_type": "code",
   "execution_count": null,
   "metadata": {},
   "outputs": [],
   "source": [
    "\n",
    "for nome in nomes:\n",
    "    #restricao para vitamina A\n",
    "    rest_vitA = -restricoes(nome)[2]\n",
    "    vetor_coef_vitA = (-matriz_todos_alimentos(nome))[2]\n",
    "    dieta_vitA = scipy.optimize.linprog(c = np.ones(len(alimentos) + 1), A_ub = vetor_coef_vitA, b_ub= rest_vitA, method='highs')\n",
    "    print(f\"Valor {nome} para vitamina A:\",dieta_vitA, sep='\\n')\n",
    "\n",
    "    #restricao para riboflavina\n",
    "    rest_ribo = -restricoes(nome)[3]\n",
    "    vetor_coef_ribo = (-matriz_todos_alimentos(nome))[3]\n",
    "    dieta_ribo = scipy.optimize.linprog(c = np.ones(len(alimentos) + 1), A_ub = vetor_coef_ribo, b_ub= rest_ribo, method='highs')\n",
    "    print(f\"Valor {nome} para riboflavina:\",dieta_ribo,sep='\\n')\n"
   ]
  },
  {
   "cell_type": "markdown",
   "metadata": {},
   "source": [
    "### Valores encontrados letra b\n",
    "- Henrique :\n",
    "  - Vitamina A = 0.0006533101045296169\n",
    "  - Riboflavina = 0.09251968503937008\n",
    "\n",
    "- Lucas :\n",
    "  - Vitamina A = 0.009037456445993032\n",
    "  - Riboflavina = 0.01377952755905512\n",
    "\n",
    "- Rafael :\n",
    "  - Vitamina A = 0.006424216027874565\n",
    "  - Riboflavina = 0.01377952755905512\n"
   ]
  }
 ],
 "metadata": {
  "kernelspec": {
   "display_name": "icp363",
   "language": "python",
   "name": "python3"
  },
  "language_info": {
   "codemirror_mode": {
    "name": "ipython",
    "version": 3
   },
   "file_extension": ".py",
   "mimetype": "text/x-python",
   "name": "python",
   "nbconvert_exporter": "python",
   "pygments_lexer": "ipython3",
   "version": "3.12.5"
  }
 },
 "nbformat": 4,
 "nbformat_minor": 2
}
