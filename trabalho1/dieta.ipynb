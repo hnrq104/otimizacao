{
 "cells": [
  {
   "cell_type": "code",
   "execution_count": 12,
   "metadata": {},
   "outputs": [],
   "source": [
    "import csv\n",
    "''' Depois de tratar o texto, e guardar os csv's em (letras.csv), (nutricao.csv)\n",
    "    Podemos de fato começar a aplicar o método do simplex para determinar as melhores dietas'''\n",
    "\n",
    "nomes = ['HENRIQUE','LUCAS','RAFAEL'] #nossos nomes\n",
    "\n",
    "#nutrientes da que nossa dieta precisa satisfazer \n",
    "nutrientes_minimos = ['Caloria','Calcio','VitaminaA','Riboflavina','AcidoAscorbico'] \n",
    "\n",
    "dieta_prodx_por_letra = dict() #dicionario de letra para dieta e prodx\n",
    "with open('letras.csv',newline='') as csvfile:\n",
    "    reader = csv.DictReader(csvfile)\n",
    "    for row in reader:\n",
    "        dieta_prodx_por_letra[row['Letra']] = (float(row['Dieta']),float(row['ProdutoX']))"
   ]
  },
  {
   "cell_type": "markdown",
   "metadata": {},
   "source": [
    "Vamos definir agora nosso problema de minimização!\n",
    "\n",
    "Se gostaríamos de reduzir o custo, nossas variáveis serão todas $x_i$, onde $x_i$ significa quantos dólares gastamos no alimento $i$.\n",
    "Como o médico nos passou quantidades mínimas para suprir de nutrientes, essas quantidades formarão nossa matriz de restrição.\n",
    "\n",
    "Teremos algo do tipo:\n",
    "$$\n",
    "    x_1c_1 + x_2c_2 + ... + x_nc_n \\geq c\\\\\n",
    "    x_1p_1 + x_2p_2 + ... + x_np_n \\geq p\\\\\n",
    "    x_1v_1 + x_2v_2 + ... + x_nv_n \\geq v\\\\\n",
    "    x_1r_1 + x_2r_2 + ... + x_nr_n \\geq r\\\\\n",
    "    x_1a_1 + x_2a_2 + ... + x_na_n \\geq a\\\\\n",
    "$$\n",
    "\n",
    "Onde $c_i$ é quanto de calórias o alimento $i$ dá por unidade de dolar gasto e $c$ é a quantidade mínima de calorias que o médico nos recomendou. (Fiz a mesma coisa para os outros nutrientes)\n",
    "\n",
    "Como isso não está exatamente na forma padrão, teremos que multiplicar por -1 todas as linhas, de forma a tornar todo $\\geq$ em $\\leq$."
   ]
  },
  {
   "cell_type": "markdown",
   "metadata": {},
   "source": []
  },
  {
   "cell_type": "code",
   "execution_count": 13,
   "metadata": {},
   "outputs": [],
   "source": [
    "''' ideia \n",
    "M = [ [c1,c2,c3,...,cn],\n",
    "      [p1,p2,p3,...,pn],\n",
    "      ...\n",
    "    ]\n",
    "'''\n",
    "alimentos = []\n",
    "with open('nutricao.csv','r',newline='') as csvfile:\n",
    "    reader = csv.DictReader(csvfile)\n",
    "    for row in reader:\n",
    "        alimentos.append(row)"
   ]
  },
  {
   "cell_type": "code",
   "execution_count": 14,
   "metadata": {},
   "outputs": [
    {
     "data": {
      "text/plain": [
       "[{'Numero': '1',\n",
       "  'Mercadoria': 'Farinhadetrigo(enriquecida)',\n",
       "  'Caloria': '44.7',\n",
       "  'Proteina': '1411',\n",
       "  'Calcio': '2.0',\n",
       "  'Ferro': '365',\n",
       "  'VitaminaA': '0',\n",
       "  'Tiamina': '55.4',\n",
       "  'Riboflavina': '33.3',\n",
       "  'Niacina': '441',\n",
       "  'AcidoAscorbico': '0'},\n",
       " {'Numero': '15',\n",
       "  'Mercadoria': 'Leite evaporado (lata)',\n",
       "  'Caloria': '8.4',\n",
       "  'Proteina': '422',\n",
       "  'Calcio': '15.1',\n",
       "  'Ferro': '9',\n",
       "  'VitaminaA': '26.0',\n",
       "  'Tiamina': '3.0',\n",
       "  'Riboflavina': '23.5',\n",
       "  'Niacina': '11',\n",
       "  'AcidoAscorbico': '60'},\n",
       " {'Numero': '19',\n",
       "  'Mercadoria': 'Queijo (cheddar)',\n",
       "  'Caloria': '7.4',\n",
       "  'Proteina': '448',\n",
       "  'Calcio': '16.4',\n",
       "  'Ferro': '19',\n",
       "  'VitaminaA': '28.1',\n",
       "  'Tiamina': '0.8',\n",
       "  'Riboflavina': '10.3',\n",
       "  'Niacina': '4',\n",
       "  'AcidoAscorbico': '0'},\n",
       " {'Numero': '30',\n",
       "  'Mercadoria': 'Fígado (boi)',\n",
       "  'Caloria': '2.2',\n",
       "  'Proteina': '333',\n",
       "  'Calcio': '0.2',\n",
       "  'Ferro': '139',\n",
       "  'VitaminaA': '169.2',\n",
       "  'Tiamina': '6.4',\n",
       "  'Riboflavina': '50.8',\n",
       "  'Niacina': '316',\n",
       "  'AcidoAscorbico': '525'},\n",
       " {'Numero': '52',\n",
       "  'Mercadoria': 'Espinafre',\n",
       "  'Caloria': '1.1',\n",
       "  'Proteina': '106',\n",
       "  'Calcio': '0',\n",
       "  'Ferro': '138',\n",
       "  'VitaminaA': '918.4',\n",
       "  'Tiamina': '5.7',\n",
       "  'Riboflavina': '13.8',\n",
       "  'Niacina': '33',\n",
       "  'AcidoAscorbico': '2755'},\n",
       " {'Numero': '53',\n",
       "  'Mercadoria': 'Batata-doce',\n",
       "  'Caloria': '9.6',\n",
       "  'Proteina': '138',\n",
       "  'Calcio': '2.7',\n",
       "  'Ferro': '54',\n",
       "  'VitaminaA': '290.7',\n",
       "  'Tiamina': '8.4',\n",
       "  'Riboflavina': '5.4',\n",
       "  'Niacina': '83',\n",
       "  'AcidoAscorbico': '1912'},\n",
       " {'Numero': '68',\n",
       "  'Mercadoria': 'Feijão verde. seco',\n",
       "  'Caloria': '17.4',\n",
       "  'Proteina': '1055',\n",
       "  'Calcio': '3.7',\n",
       "  'Ferro': '459',\n",
       "  'VitaminaA': '5.1',\n",
       "  'Tiamina': '26.9',\n",
       "  'Riboflavina': '38.2',\n",
       "  'Niacina': '93',\n",
       "  'AcidoAscorbico': '0'}]"
      ]
     },
     "execution_count": 14,
     "metadata": {},
     "output_type": "execute_result"
    }
   ],
   "source": [
    "mercadorias_disponiveis = ['Farinhadetrigo(enriquecida)','Leite evaporado (lata)','Queijo (cheddar)',\n",
    "                     'Fígado (boi)','Espinafre','Batata-doce','Feijão verde. seco']\n",
    "\n",
    "alimentos_disponiveis = []\n",
    "for a in alimentos:\n",
    "    if a['Mercadoria'] in mercadorias_disponiveis:\n",
    "        alimentos_disponiveis.append(a)\n",
    "alimentos_disponiveis"
   ]
  },
  {
   "cell_type": "markdown",
   "metadata": {},
   "source": [
    "Depois de conseguir resultados estranhos, percebi que as dimensões passadas pelo médico e pelas tabelas estão em dimensões diferentes:\n",
    "- Dimensão Dieta: **$10^2$ calorias, $10^{-2}$ gramas, $10^2$ unidades internacionais, $10^{-1}$ miligramas e miligrama.**\n",
    "- Dimensões Produto X: **$10^3$ calorias/dólar, $10^{−1}$ gramas/dólar, $10^3$ unidades internacionais/dólar, $10^{−1}$ miligramas/dólar, miligramas/dólar.**"
   ]
  },
  {
   "cell_type": "code",
   "execution_count": 15,
   "metadata": {},
   "outputs": [],
   "source": [
    "tabela_sem_prod_x = []\n",
    "for nutriente in nutrientes_minimos:\n",
    "    linha_nutri = [float(x[nutriente]) for x in alimentos]\n",
    "    tabela_sem_prod_x.append(linha_nutri)\n"
   ]
  },
  {
   "cell_type": "code",
   "execution_count": 16,
   "metadata": {},
   "outputs": [
    {
     "data": {
      "text/plain": [
       "[[44.7, 8.4, 7.4, 2.2, 1.1, 9.6, 17.4],\n",
       " [2.0, 15.1, 16.4, 0.2, 0.0, 2.7, 3.7],\n",
       " [0.0, 26.0, 28.1, 169.2, 918.4, 290.7, 5.1],\n",
       " [33.3, 23.5, 10.3, 50.8, 13.8, 5.4, 38.2],\n",
       " [0.0, 60.0, 0.0, 525.0, 2755.0, 1912.0, 0.0]]"
      ]
     },
     "execution_count": 16,
     "metadata": {},
     "output_type": "execute_result"
    }
   ],
   "source": [
    "tabela_loja = []\n",
    "for nutriente in nutrientes_minimos:\n",
    "    linha_nutri = [float(x[nutriente]) for x in alimentos_disponiveis]\n",
    "    tabela_loja.append(linha_nutri)\n",
    "tabela_loja"
   ]
  },
  {
   "cell_type": "code",
   "execution_count": 19,
   "metadata": {},
   "outputs": [],
   "source": [
    "#com a matriz de restrição sem o produto X pronta, já estamos quase finalizados, basta descobrir quanto produto X nos dá e o B para cada nome!\n",
    "from copy import deepcopy\n",
    "import numpy as np\n",
    "import scipy.optimize\n",
    "\n",
    "conversao_dieta = [10**-1, 10**-2, 10**-1, 10**-1, 1] # para conversão da restrição\n",
    "conversao_prod_x = [1,10**-1,1,10**-1,1] # para conversao do produto x\n",
    "\n",
    "def matriz_todos_alimentos(nome:str):\n",
    "    nome = nome.upper()\n",
    "    m = deepcopy(tabela_sem_prod_x)\n",
    "    for i in range(5): #são cinco nutrientes\n",
    "        if i < len(nome) and nome[i] in dieta_prodx_por_letra:\n",
    "            letra = nome[i]\n",
    "            val = float(dieta_prodx_por_letra[letra][1]) * conversao_prod_x[i]\n",
    "            m[i].append(val)\n",
    "        else: \n",
    "            m[i].append(0.)\n",
    "    return np.matrix(m)\n",
    "\n",
    "def matriz_loja(nome:str):\n",
    "    nome = nome.upper()\n",
    "    m = deepcopy(tabela_loja)\n",
    "    for i in range(5): #são cinco nutrientes\n",
    "        if i < len(nome) and nome[i] in dieta_prodx_por_letra:\n",
    "            letra = nome[i]\n",
    "            val = float(dieta_prodx_por_letra[letra][1]) * conversao_prod_x[i]\n",
    "            m[i].append(val)\n",
    "        else: \n",
    "            m[i].append(0.)\n",
    "    return np.matrix(m)\n",
    "\n",
    "\n",
    "\n",
    "def restricoes(nome:str):\n",
    "    nome = nome.upper()\n",
    "    r = []\n",
    "    for i in range(5):\n",
    "        if i < len(nome) and nome[i] in dieta_prodx_por_letra:\n",
    "            letra = nome[i]\n",
    "            val = float(dieta_prodx_por_letra[letra][0]) * conversao_dieta[i]\n",
    "            r.append(val)\n",
    "        else:\n",
    "            r.append(0.)\n",
    "    return np.array(r)\n",
    "\n",
    "\n",
    "\n",
    "def dieta(nome:str,method:str):\n",
    "    m = -matriz_loja(nome)\n",
    "    r = -restricoes(nome)\n",
    "    c = np.ones(len(alimentos_disponiveis) + 1) # esse é o funcional linear que será minizado\n",
    "    return scipy.optimize.linprog(c=c,A_ub=m,b_ub=r,method=method)"
   ]
  },
  {
   "cell_type": "code",
   "execution_count": 24,
   "metadata": {},
   "outputs": [
    {
     "data": {
      "text/plain": [
       "matrix([[ 3.        ],\n",
       "        [ 0.39      ],\n",
       "        [24.27644967],\n",
       "        [ 4.7       ],\n",
       "        [65.        ]])"
      ]
     },
     "execution_count": 24,
     "metadata": {},
     "output_type": "execute_result"
    }
   ],
   "source": [
    "ar = dieta('henrique','highs').x\n",
    "ar.shape = (8,1)\n",
    "\n",
    "matriz_loja('henrique')*ar"
   ]
  },
  {
   "cell_type": "code",
   "execution_count": 25,
   "metadata": {},
   "outputs": [
    {
     "data": {
      "text/plain": [
       "array([ 3.  ,  0.39,  0.6 ,  4.7 , 65.  ])"
      ]
     },
     "execution_count": 25,
     "metadata": {},
     "output_type": "execute_result"
    }
   ],
   "source": [
    "restricoes('henrique')"
   ]
  },
  {
   "cell_type": "code",
   "execution_count": 21,
   "metadata": {},
   "outputs": [
    {
     "data": {
      "text/plain": [
       "array([0.00315594, 0.        , 0.        , 0.        , 0.01213675,\n",
       "       0.        , 0.        , 0.06784447])"
      ]
     },
     "execution_count": 21,
     "metadata": {},
     "output_type": "execute_result"
    }
   ],
   "source": [
    "dieta('rafael','highs').x"
   ]
  }
 ],
 "metadata": {
  "kernelspec": {
   "display_name": "icp363",
   "language": "python",
   "name": "python3"
  },
  "language_info": {
   "codemirror_mode": {
    "name": "ipython",
    "version": 3
   },
   "file_extension": ".py",
   "mimetype": "text/x-python",
   "name": "python",
   "nbconvert_exporter": "python",
   "pygments_lexer": "ipython3",
   "version": "3.12.5"
  }
 },
 "nbformat": 4,
 "nbformat_minor": 2
}
