{
 "cells": [
  {
   "cell_type": "code",
   "execution_count": 1,
   "metadata": {},
   "outputs": [],
   "source": [
    "import csv\n",
    "''' Depois de tratar o texto, e guardar os csv's em (letras.csv), (nutricao.csv)\n",
    "    Podemos de fato começar a aplicar o método do simplex para determinar as melhores dietas'''\n",
    "\n",
    "nomes = ['HENRIQUE','LUCAS','RAFAEL'] #nossos nomes\n",
    "\n",
    "#nutrientes da que nossa dieta precisa satisfazer \n",
    "nutrientes_minimos = ['Caloria','Calcio','VitaminaA','Riboflavina','AcidoAscorbico'] \n",
    "\n",
    "dieta_prodx_por_letra = dict() #dicionario de letra para dieta e prodx\n",
    "with open('letras.csv',newline='') as csvfile:\n",
    "    reader = csv.DictReader(csvfile)\n",
    "    for row in reader:\n",
    "        dieta_prodx_por_letra[row['Letra']] = (float(row['Dieta']),float(row['ProdutoX']))"
   ]
  },
  {
   "cell_type": "markdown",
   "metadata": {},
   "source": [
    "Vamos definir agora nosso problema de minimização!\n",
    "\n",
    "Se gostaríamos de reduzir o custo, nossas variáveis serão todas $x_i$, onde $x_i$ significa quantos dólares gastamos no alimento $i$.\n",
    "Como o médico nos passou quantidades mínimas para suprir de nutrientes, essas quantidades formarão nossa matriz de restrição.\n",
    "\n",
    "Teremos algo do tipo:\n",
    "$$\n",
    "    x_1c_1 + x_2c_2 + ... + x_nc_n \\geq c\\\\\n",
    "    x_1p_1 + x_2p_2 + ... + x_np_n \\geq p\\\\\n",
    "    x_1v_1 + x_2v_2 + ... + x_nv_n \\geq v\\\\\n",
    "    x_1r_1 + x_2r_2 + ... + x_nr_n \\geq r\\\\\n",
    "    x_1a_1 + x_2a_2 + ... + x_na_n \\geq a\\\\\n",
    "$$\n",
    "\n",
    "Onde $c_i$ é quanto de calórias o alimento $i$ dá por unidade de dolar gasto e $c$ é a quantidade mínima de calorias que o médico nos recomendou. (Fiz a mesma coisa para os outros nutrientes)\n",
    "\n",
    "Como isso não está exatamente na forma padrão, teremos que multiplicar por -1 todas as linhas, de forma a tornar todo $\\geq$ em $\\leq$."
   ]
  },
  {
   "cell_type": "markdown",
   "metadata": {},
   "source": []
  },
  {
   "cell_type": "code",
   "execution_count": 2,
   "metadata": {},
   "outputs": [],
   "source": [
    "''' ideia \n",
    "M = [ [c1,c2,c3,...,cn],\n",
    "      [p1,p2,p3,...,pn],\n",
    "      ...\n",
    "    ]\n",
    "'''\n",
    "alimentos = []\n",
    "with open('nutricao.csv','r',newline='') as csvfile:\n",
    "    reader = csv.DictReader(csvfile)\n",
    "    for row in reader:\n",
    "        alimentos.append(row)"
   ]
  },
  {
   "cell_type": "markdown",
   "metadata": {},
   "source": [
    "Depois de conseguir resultados estranhos, percebi que as dimensões passadas pelo médico e pelas tabelas estão em dimensões diferentes:\n",
    "- Dimensão Dieta: **$10^2$ calorias, $10^{-2}$ gramas, $10^2$ unidades internacionais, $10^{-1}$ miligramas e miligrama.**\n",
    "- Dimensões Produto X: **$10^3$ calorias/dólar, $10^{−1}$ gramas/dólar, $10^3$ unidades internacionais/dólar, $10^{−1}$ miligramas/dólar, miligramas/dólar.**"
   ]
  },
  {
   "cell_type": "code",
   "execution_count": 3,
   "metadata": {},
   "outputs": [],
   "source": [
    "matriz_sem_prod_x = []\n",
    "for nutriente in nutrientes_minimos:\n",
    "    linha_nutri = [float(x[nutriente]) for x in alimentos]\n",
    "    matriz_sem_prod_x.append(linha_nutri)\n"
   ]
  },
  {
   "cell_type": "code",
   "execution_count": 4,
   "metadata": {},
   "outputs": [],
   "source": [
    "#com a matriz de restrição sem o produto X pronta, já estamos quase finalizados, basta descobrir quanto produto X nos dá e o B para cada nome!\n",
    "from copy import deepcopy\n",
    "import numpy as np\n",
    "import scipy.optimize\n",
    "\n",
    "conversao_dieta = [10**-1, 10**-2, 10**-1, 10**-1, 1] # para conversão da restrição\n",
    "conversao_prod_x = [1,10**-1,1,10**-1,1] # para conversao do produto x\n",
    "\n",
    "def matriz(nome:str):\n",
    "    nome = nome.upper()\n",
    "    m = deepcopy(matriz_sem_prod_x)\n",
    "    for i in range(5): #são cinco nutrientes\n",
    "        if i < len(nome) and nome[i] in dieta_prodx_por_letra:\n",
    "            letra = nome[i]\n",
    "            val = float(dieta_prodx_por_letra[letra][1]) * conversao_prod_x[i]\n",
    "            m[i].append(val)\n",
    "        else: \n",
    "            m[i].append(0.)\n",
    "    return np.matrix(m)\n",
    "\n",
    "def restricoes(nome:str):\n",
    "    nome = nome.upper()\n",
    "    r = []\n",
    "    for i in range(5):\n",
    "        if i < len(nome) and nome[i] in dieta_prodx_por_letra:\n",
    "            letra = nome[i]\n",
    "            val = float(dieta_prodx_por_letra[letra][0]) * conversao_dieta[i]\n",
    "            r.append(val)\n",
    "        else:\n",
    "            r.append(0.)\n",
    "    return np.array(r)\n",
    "\n",
    "\n",
    "\n",
    "def dieta(nome:str,method:str):\n",
    "    m = -matriz(nome)\n",
    "    r = -restricoes(nome)\n",
    "    c = np.ones(len(alimentos) + 1) # esse é o funcional linear que será minizado\n",
    "    return scipy.optimize.linprog(c=c,A_ub=m,b_ub=r,method=method)"
   ]
  },
  {
   "cell_type": "code",
   "execution_count": 5,
   "metadata": {},
   "outputs": [
    {
     "data": {
      "text/plain": [
       "matrix([[4.470e+01, 3.600e+01, 8.400e+00, 2.060e+01, 7.400e+00,\n",
       "         1.570e+01, 4.170e+01, 2.200e+00, 4.400e+00, 5.800e+00,\n",
       "         2.400e+00, 2.600e+00, 5.800e+00, 1.430e+01, 1.100e+00,\n",
       "         9.600e+00, 8.500e+00, 1.280e+01, 1.740e+01, 2.690e+01,\n",
       "         6.900e+01],\n",
       "        [2.000e+00, 1.700e+00, 1.510e+01, 6.000e-01, 1.640e+01,\n",
       "         1.000e+00, 0.000e+00, 2.000e-01, 3.000e-01, 6.800e+00,\n",
       "         3.700e+00, 4.000e+00, 3.800e+00, 1.800e+00, 0.000e+00,\n",
       "         2.700e+00, 1.700e+00, 2.500e+00, 3.700e+00, 1.140e+01,\n",
       "         8.200e+00],\n",
       "        [0.000e+00, 3.090e+01, 2.600e+01, 5.580e+01, 2.810e+01,\n",
       "         0.000e+00, 2.000e-01, 1.692e+02, 0.000e+00, 3.500e+00,\n",
       "         6.900e+01, 7.200e+00, 1.660e+01, 6.700e+00, 9.184e+02,\n",
       "         2.907e+02, 8.680e+01, 8.570e+01, 5.100e+00, 0.000e+00,\n",
       "         9.100e+01],\n",
       "        [3.330e+01, 7.900e+00, 2.350e+01, 0.000e+00, 1.030e+01,\n",
       "         8.100e+00, 5.000e+00, 5.080e+01, 3.600e+00, 4.900e+00,\n",
       "         5.800e+00, 4.500e+00, 5.900e+00, 7.100e+00, 1.380e+01,\n",
       "         5.400e+00, 4.300e+00, 4.300e+00, 3.820e+01, 2.460e+01,\n",
       "         6.700e+00],\n",
       "        [0.000e+00, 0.000e+00, 6.000e+01, 0.000e+00, 0.000e+00,\n",
       "         0.000e+00, 0.000e+00, 5.250e+02, 0.000e+00, 0.000e+00,\n",
       "         8.620e+02, 5.369e+03, 1.184e+03, 2.522e+03, 2.755e+03,\n",
       "         1.912e+03, 2.570e+02, 2.570e+02, 0.000e+00, 0.000e+00,\n",
       "         4.400e+01]])"
      ]
     },
     "execution_count": 5,
     "metadata": {},
     "output_type": "execute_result"
    }
   ],
   "source": [
    "matriz(\"henrique\")"
   ]
  },
  {
   "cell_type": "code",
   "execution_count": 6,
   "metadata": {},
   "outputs": [
    {
     "name": "stdout",
     "output_type": "stream",
     "text": [
      "[ 3.    0.39  0.6   4.7  65.  ]\n"
     ]
    }
   ],
   "source": [
    "print(restricoes(\"henrique\"))"
   ]
  },
  {
   "cell_type": "code",
   "execution_count": 7,
   "metadata": {},
   "outputs": [
    {
     "data": {
      "text/plain": [
       "matrix([[ 3.        ],\n",
       "        [ 0.39      ],\n",
       "        [ 8.13040664],\n",
       "        [ 4.7       ],\n",
       "        [65.        ]])"
      ]
     },
     "execution_count": 7,
     "metadata": {},
     "output_type": "execute_result"
    }
   ],
   "source": [
    "minha_dieta = dieta('henrique','highs')\n",
    "vet = minha_dieta.x\n",
    "vet.shape = (21,1)\n",
    "M = matriz('henrique')\n",
    "\n",
    "M*vet #vamos printar o valor nutricional da minha dieta (está satisfazendo o pedido!)"
   ]
  },
  {
   "cell_type": "code",
   "execution_count": 8,
   "metadata": {},
   "outputs": [
    {
     "data": {
      "text/plain": [
       "        message: Optimization terminated successfully. (HiGHS Status 7: Optimal)\n",
       "        success: True\n",
       "         status: 0\n",
       "            fun: 0.1281775971085443\n",
       "              x: [[ 5.123e-02]\n",
       "                  [ 0.000e+00]\n",
       "                  ...\n",
       "                  [ 2.178e-02]\n",
       "                  [ 0.000e+00]]\n",
       "            nit: 5\n",
       "          lower:  residual: [ 5.123e-02  0.000e+00 ...  2.178e-02\n",
       "                              0.000e+00]\n",
       "                 marginals: [ 0.000e+00  5.273e-01 ...  0.000e+00\n",
       "                              8.363e-02]\n",
       "          upper:  residual: [       inf        inf ...        inf\n",
       "                                    inf]\n",
       "                 marginals: [ 0.000e+00  0.000e+00 ...  0.000e+00\n",
       "                              0.000e+00]\n",
       "          eqlin:  residual: []\n",
       "                 marginals: []\n",
       "        ineqlin:  residual: [ 0.000e+00  0.000e+00  7.530e+00  0.000e+00\n",
       "                              0.000e+00]\n",
       "                 marginals: [-7.768e-03 -3.112e-02 -0.000e+00 -1.773e-02\n",
       "                             -1.444e-04]\n",
       " mip_node_count: 0\n",
       " mip_dual_bound: 0.0\n",
       "        mip_gap: 0.0"
      ]
     },
     "execution_count": 8,
     "metadata": {},
     "output_type": "execute_result"
    }
   ],
   "source": [
    "minha_dieta"
   ]
  },
  {
   "cell_type": "code",
   "execution_count": 9,
   "metadata": {},
   "outputs": [
    {
     "data": {
      "text/plain": [
       "        message: Optimization terminated successfully. (HiGHS Status 7: Optimal)\n",
       "        success: True\n",
       "         status: 0\n",
       "            fun: 0.07963365018987803\n",
       "              x: [ 7.056e-03  0.000e+00 ...  0.000e+00  6.521e-02]\n",
       "            nit: 4\n",
       "          lower:  residual: [ 7.056e-03  0.000e+00 ...  0.000e+00\n",
       "                              6.521e-02]\n",
       "                 marginals: [ 0.000e+00  4.149e-01 ...  3.423e-01\n",
       "                              0.000e+00]\n",
       "          upper:  residual: [       inf        inf ...        inf\n",
       "                                    inf]\n",
       "                 marginals: [ 0.000e+00  0.000e+00 ...  0.000e+00\n",
       "                              0.000e+00]\n",
       "          eqlin:  residual: []\n",
       "                 marginals: []\n",
       "        ineqlin:  residual: [ 0.000e+00  3.753e-01  0.000e+00  0.000e+00\n",
       "                              0.000e+00]\n",
       "                 marginals: [-1.323e-02 -0.000e+00 -3.816e-04 -1.226e-02\n",
       "                             -1.691e-04]\n",
       " mip_node_count: 0\n",
       " mip_dual_bound: 0.0\n",
       "        mip_gap: 0.0"
      ]
     },
     "execution_count": 9,
     "metadata": {},
     "output_type": "execute_result"
    }
   ],
   "source": [
    "dieta('rafael','highs')"
   ]
  },
  {
   "cell_type": "code",
   "execution_count": 10,
   "metadata": {},
   "outputs": [
    {
     "data": {
      "text/plain": [
       "        message: Optimization terminated successfully. (HiGHS Status 7: Optimal)\n",
       "        success: True\n",
       "         status: 0\n",
       "            fun: 0.15858707204585107\n",
       "              x: [ 1.687e-02  0.000e+00 ...  0.000e+00  1.405e-01]\n",
       "            nit: 3\n",
       "          lower:  residual: [ 1.687e-02  0.000e+00 ...  0.000e+00\n",
       "                              1.405e-01]\n",
       "                 marginals: [ 0.000e+00  1.836e-01 ...  3.982e-01\n",
       "                              0.000e+00]\n",
       "          upper:  residual: [       inf        inf ...        inf\n",
       "                                    inf]\n",
       "                 marginals: [ 0.000e+00  0.000e+00 ...  0.000e+00\n",
       "                              0.000e+00]\n",
       "          eqlin:  residual: []\n",
       "                 marginals: []\n",
       "        ineqlin:  residual: [ 0.000e+00  1.736e-02  0.000e+00  7.524e-01\n",
       "                              0.000e+00]\n",
       "                 marginals: [-2.237e-02 -0.000e+00 -3.570e-04 -0.000e+00\n",
       "                             -1.749e-04]\n",
       " mip_node_count: 0\n",
       " mip_dual_bound: 0.0\n",
       "        mip_gap: 0.0"
      ]
     },
     "execution_count": 10,
     "metadata": {},
     "output_type": "execute_result"
    }
   ],
   "source": [
    "dieta('lucas','highs')"
   ]
  }
 ],
 "metadata": {
  "kernelspec": {
   "display_name": "icp363",
   "language": "python",
   "name": "python3"
  },
  "language_info": {
   "codemirror_mode": {
    "name": "ipython",
    "version": 3
   },
   "file_extension": ".py",
   "mimetype": "text/x-python",
   "name": "python",
   "nbconvert_exporter": "python",
   "pygments_lexer": "ipython3",
   "version": "3.12.5"
  }
 },
 "nbformat": 4,
 "nbformat_minor": 2
}
