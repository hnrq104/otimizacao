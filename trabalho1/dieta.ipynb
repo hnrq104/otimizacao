{
 "cells": [
  {
   "cell_type": "code",
   "execution_count": 50,
   "metadata": {},
   "outputs": [],
   "source": [
    "import csv\n",
    "''' Depois de tratar o texto, e guardar os csv's em (letras.csv), (nutricao.csv)\n",
    "    Podemos de fato começar a aplicar o método do simplex para determinar as melhores dietas'''\n",
    "\n",
    "nomes = ['HENRIQUE','LUCAS','RAFAEL'] #nossos nomes\n",
    "\n",
    "#nutrientes da que nossa dieta precisa satisfazer \n",
    "nutrientes_minimos = ['Caloria','Calcio','VitaminaA','Riboflavina','AcidoAscorbico'] \n",
    "\n",
    "dieta_prodx_por_letra = dict() #dicionario de letra para dieta e prodx\n",
    "with open('letras.csv',newline='') as csvfile:\n",
    "    reader = csv.DictReader(csvfile)\n",
    "    for row in reader:\n",
    "        dieta_prodx_por_letra[row['Letra']] = (float(row['Dieta']),float(row['ProdutoX']))"
   ]
  },
  {
   "cell_type": "markdown",
   "metadata": {},
   "source": [
    "Vamos definir agora nosso problema de minimização!\n",
    "\n",
    "Se gostaríamos de reduzir o custo, nossas variáveis serão todas $x_i$, onde $x_i$ significa quantos dólares gastamos no alimento $i$.\n",
    "Como o médico nos passou quantidades mínimas para suprir de nutrientes, essas quantidades formarão nossa matriz de restrição.\n",
    "\n",
    "Teremos algo do tipo:\n",
    "$$\n",
    "    x_1c_1 + x_2c_2 + ... + x_nc_n \\geq c\\\\\n",
    "    x_1p_1 + x_2p_2 + ... + x_np_n \\geq p\\\\\n",
    "    x_1v_1 + x_2v_2 + ... + x_nv_n \\geq v\\\\\n",
    "    x_1r_1 + x_2r_2 + ... + x_nr_n \\geq r\\\\\n",
    "    x_1a_1 + x_2a_2 + ... + x_na_n \\geq a\\\\\n",
    "$$\n",
    "\n",
    "Onde $c_i$ é quanto de calórias o alimento $i$ dá por unidade de dolar gasto e $c$ é a quantidade mínima de calorias que o médico nos recomendou. (Fiz a mesma coisa para os outros nutrientes)\n",
    "\n",
    "Como isso não está exatamente na forma padrão, teremos que multiplicar por -1 todas as linhas, de forma a tornar todo $\\geq$ em $\\leq$."
   ]
  },
  {
   "cell_type": "markdown",
   "metadata": {},
   "source": []
  },
  {
   "cell_type": "code",
   "execution_count": 51,
   "metadata": {},
   "outputs": [],
   "source": [
    "''' ideia \n",
    "M = [ [c1,c2,c3,...,cn],\n",
    "      [p1,p2,p3,...,pn],\n",
    "      ...\n",
    "    ]\n",
    "'''\n",
    "alimentos = []\n",
    "with open('nutricao.csv','r',newline='') as csvfile:\n",
    "    reader = csv.DictReader(csvfile)\n",
    "    for row in reader:\n",
    "        alimentos.append(row)"
   ]
  },
  {
   "cell_type": "markdown",
   "metadata": {},
   "source": [
    "Depois de conseguir resultados estranhos, percebi que as dimensões passadas pelo médico e pelas tabelas estão em dimensões diferentes:\n",
    "- Dimensão Dieta: **$10^2$ calorias, $10^{-2}$ gramas, $10^2$ unidades internacionais, $10^{-1}$ miligramas e miligrama.**\n",
    "- Dimensões Produto X: **$10^3$ calorias/dólar, $10^{−1}$ gramas/dólar, $10^3$ unidades internacionais/dólar, $10^{−1}$ miligramas/dólar, miligramas/dólar.**"
   ]
  },
  {
   "cell_type": "code",
   "execution_count": 61,
   "metadata": {},
   "outputs": [],
   "source": [
    "matriz_sem_prod_x = []\n",
    "for nutriente in nutrientes_minimos:\n",
    "    linha_nutri = [float(x[nutriente]) for x in alimentos]\n",
    "    matriz_sem_prod_x.append(linha_nutri)\n"
   ]
  },
  {
   "cell_type": "code",
   "execution_count": 65,
   "metadata": {},
   "outputs": [],
   "source": [
    "#com a matriz de restrição sem o produto X pronta, já estamos quase finalizados, basta descobrir quanto produto X nos dá e o B para cada nome!\n",
    "from copy import deepcopy\n",
    "import numpy as np\n",
    "import scipy.optimize\n",
    "\n",
    "conversao_dieta = [10**-1, 10**-2, 10**-1, 10**-1, 1] # para conversão da restrição\n",
    "conversao_prod_x = [1,10**-1,1,10**-1,1] # para conversao do produto x\n",
    "\n",
    "def matriz(nome:str):\n",
    "    m = deepcopy(matriz_sem_prod_x)\n",
    "    for i in range(5): #são cinco nutrientes\n",
    "        if i < len(nome):\n",
    "            letra = nome[i].upper()\n",
    "            val = float(dieta_prodx_por_letra[letra][1]) * conversao_prod_x[i]\n",
    "            m[i].append(val)\n",
    "        else: \n",
    "            m[i].append(0.)\n",
    "    return np.matrix(m)\n",
    "\n",
    "def restricoes(nome):\n",
    "    r = []\n",
    "    for i in range(5):\n",
    "        if i < len(nome):\n",
    "            letra = nome[i].upper()\n",
    "            val = float(dieta_prodx_por_letra[letra][0]) * conversao_dieta[i]\n",
    "            r.append(val)\n",
    "        else:\n",
    "            r.append(0.)\n",
    "    return np.array(r)\n",
    "\n",
    "\n",
    "\n",
    "def dieta(nome:str,method:str):\n",
    "    m = -matriz(nome)\n",
    "    r = -restricoes(nome)\n",
    "    c = np.ones(len(alimentos) + 1) # esse é o funcional linear que será minizado\n",
    "    return scipy.optimize.linprog(c=c,A_ub=m,b_ub=r,method=method)"
   ]
  },
  {
   "cell_type": "code",
   "execution_count": 63,
   "metadata": {},
   "outputs": [
    {
     "data": {
      "text/plain": [
       "matrix([[4.47e+01, 3.60e+01, 8.40e+00, 2.06e+01, 7.40e+00, 1.57e+01,\n",
       "         4.17e+01, 2.20e+00, 4.40e+00, 5.80e+00, 2.40e+00, 2.60e+00,\n",
       "         5.80e+00, 1.43e+01, 1.10e+00, 9.60e+00, 8.50e+00, 1.28e+01,\n",
       "         1.74e+01, 2.69e+01, 6.90e+01],\n",
       "        [2.00e+00, 1.70e+00, 1.51e+01, 6.00e-01, 1.64e+01, 1.00e+00,\n",
       "         0.00e+00, 2.00e-01, 3.00e-01, 6.80e+00, 3.70e+00, 4.00e+00,\n",
       "         3.80e+00, 1.80e+00, 0.00e+00, 2.70e+00, 1.70e+00, 2.50e+00,\n",
       "         3.70e+00, 1.14e+01, 8.20e+00],\n",
       "        [3.65e+02, 9.90e+01, 9.00e+00, 6.00e+00, 1.90e+01, 4.80e+01,\n",
       "         0.00e+00, 1.39e+02, 3.70e+01, 4.50e+01, 8.00e+01, 3.60e+01,\n",
       "         5.90e+01, 1.18e+02, 1.38e+02, 5.40e+01, 1.73e+02, 1.54e+02,\n",
       "         4.59e+02, 7.92e+02, 9.10e+01],\n",
       "        [5.54e+01, 1.74e+01, 3.00e+00, 2.00e-01, 8.00e-01, 9.60e+00,\n",
       "         0.00e+00, 6.40e+00, 1.82e+01, 1.00e+00, 4.30e+00, 9.00e+00,\n",
       "         4.70e+00, 2.94e+01, 5.70e+00, 8.40e+00, 1.20e+00, 3.90e+00,\n",
       "         2.69e+01, 3.84e+01, 6.70e+00],\n",
       "        [4.41e+02, 1.06e+02, 1.10e+01, 0.00e+00, 4.00e+00, 4.71e+02,\n",
       "         5.00e+00, 3.16e+02, 7.90e+01, 2.09e+02, 3.70e+01, 2.60e+01,\n",
       "         2.10e+01, 1.98e+02, 3.30e+01, 8.30e+01, 6.50e+01, 6.50e+01,\n",
       "         9.30e+01, 2.17e+02, 4.40e+01]])"
      ]
     },
     "execution_count": 63,
     "metadata": {},
     "output_type": "execute_result"
    }
   ],
   "source": [
    "matriz(\"henrique\")"
   ]
  },
  {
   "cell_type": "code",
   "execution_count": 64,
   "metadata": {},
   "outputs": [
    {
     "name": "stdout",
     "output_type": "stream",
     "text": [
      "[ 3.    0.39  0.6   4.7  65.  ]\n"
     ]
    }
   ],
   "source": [
    "print(restricoes(\"henrique\"))"
   ]
  },
  {
   "cell_type": "code",
   "execution_count": 83,
   "metadata": {},
   "outputs": [
    {
     "data": {
      "text/plain": [
       "matrix([[ 4.3088814 ],\n",
       "        [ 0.39      ],\n",
       "        [39.10514914],\n",
       "        [ 4.7       ],\n",
       "        [65.        ]])"
      ]
     },
     "execution_count": 83,
     "metadata": {},
     "output_type": "execute_result"
    }
   ],
   "source": [
    "minha_dieta = dieta('henrique','highs')\n",
    "vet = minha_dieta.x\n",
    "vet.shape = (21,1)\n",
    "M = matriz('henrique')\n",
    "\n",
    "M*vet #vamos printar o valor nutricional da minha dieta (está satisfazendo o pedido!)"
   ]
  },
  {
   "cell_type": "code",
   "execution_count": 86,
   "metadata": {},
   "outputs": [
    {
     "data": {
      "text/plain": [
       "        message: Optimization terminated successfully. (HiGHS Status 7: Optimal)\n",
       "        success: True\n",
       "         status: 0\n",
       "            fun: 0.1511039678368966\n",
       "              x: [[ 6.014e-02]\n",
       "                  [ 0.000e+00]\n",
       "                  ...\n",
       "                  [ 1.719e-02]\n",
       "                  [ 0.000e+00]]\n",
       "            nit: 3\n",
       "          lower:  residual: [ 6.014e-02  0.000e+00 ...  1.719e-02\n",
       "                              0.000e+00]\n",
       "                 marginals: [ 0.000e+00  6.995e-01 ...  0.000e+00\n",
       "                              5.120e-01]\n",
       "          upper:  residual: [       inf        inf ...        inf\n",
       "                                    inf]\n",
       "                 marginals: [ 0.000e+00  0.000e+00 ...  0.000e+00\n",
       "                              0.000e+00]\n",
       "          eqlin:  residual: []\n",
       "                 marginals: []\n",
       "        ineqlin:  residual: [ 1.309e+00  0.000e+00  3.851e+01  0.000e+00\n",
       "                              0.000e+00]\n",
       "                 marginals: [-0.000e+00 -4.849e-02 -0.000e+00 -2.611e-04\n",
       "                             -2.015e-03]\n",
       " mip_node_count: 0\n",
       " mip_dual_bound: 0.0\n",
       "        mip_gap: 0.0"
      ]
     },
     "execution_count": 86,
     "metadata": {},
     "output_type": "execute_result"
    }
   ],
   "source": [
    "minha_dieta"
   ]
  },
  {
   "cell_type": "code",
   "execution_count": 84,
   "metadata": {},
   "outputs": [
    {
     "data": {
      "text/plain": [
       "        message: Optimization terminated successfully. (HiGHS Status 7: Optimal)\n",
       "        success: True\n",
       "         status: 0\n",
       "            fun: 0.09879605588526212\n",
       "              x: [ 8.607e-02  0.000e+00 ...  0.000e+00  1.273e-02]\n",
       "            nit: 3\n",
       "          lower:  residual: [ 8.607e-02  0.000e+00 ...  0.000e+00\n",
       "                              1.273e-02]\n",
       "                 marginals: [ 0.000e+00  4.093e-01 ...  4.399e-01\n",
       "                              0.000e+00]\n",
       "          upper:  residual: [       inf        inf ...        inf\n",
       "                                    inf]\n",
       "                 marginals: [ 0.000e+00  0.000e+00 ...  0.000e+00\n",
       "                              0.000e+00]\n",
       "          eqlin:  residual: []\n",
       "                 marginals: []\n",
       "        ineqlin:  residual: [ 0.000e+00  1.823e-01  2.625e+01  4.148e+00\n",
       "                              0.000e+00]\n",
       "                 marginals: [-1.387e-02 -0.000e+00 -0.000e+00 -0.000e+00\n",
       "                             -8.616e-04]\n",
       " mip_node_count: 0\n",
       " mip_dual_bound: 0.0\n",
       "        mip_gap: 0.0"
      ]
     },
     "execution_count": 84,
     "metadata": {},
     "output_type": "execute_result"
    }
   ],
   "source": [
    "dieta('rafael','highs')"
   ]
  },
  {
   "cell_type": "code",
   "execution_count": 87,
   "metadata": {},
   "outputs": [
    {
     "data": {
      "text/plain": [
       "        message: Optimization terminated successfully. (HiGHS Status 7: Optimal)\n",
       "        success: True\n",
       "         status: 0\n",
       "            fun: 0.15733041575492343\n",
       "              x: [ 2.047e-02  0.000e+00 ...  0.000e+00  1.369e-01]\n",
       "            nit: 2\n",
       "          lower:  residual: [ 2.047e-02  0.000e+00 ...  0.000e+00\n",
       "                              1.369e-01]\n",
       "                 marginals: [ 0.000e+00  1.937e-01 ...  2.867e-01\n",
       "                              0.000e+00]\n",
       "          upper:  residual: [       inf        inf ...        inf\n",
       "                                    inf]\n",
       "                 marginals: [ 0.000e+00  0.000e+00 ...  0.000e+00\n",
       "                              0.000e+00]\n",
       "          eqlin:  residual: []\n",
       "                 marginals: []\n",
       "        ineqlin:  residual: [ 0.000e+00  0.000e+00  7.245e+00  1.296e+00\n",
       "                              2.301e+00]\n",
       "                 marginals: [-2.188e-02 -1.094e-02 -0.000e+00 -0.000e+00\n",
       "                             -0.000e+00]\n",
       " mip_node_count: 0\n",
       " mip_dual_bound: 0.0\n",
       "        mip_gap: 0.0"
      ]
     },
     "execution_count": 87,
     "metadata": {},
     "output_type": "execute_result"
    }
   ],
   "source": [
    "dieta('lucas','highs')"
   ]
  }
 ],
 "metadata": {
  "kernelspec": {
   "display_name": "icp363",
   "language": "python",
   "name": "python3"
  },
  "language_info": {
   "codemirror_mode": {
    "name": "ipython",
    "version": 3
   },
   "file_extension": ".py",
   "mimetype": "text/x-python",
   "name": "python",
   "nbconvert_exporter": "python",
   "pygments_lexer": "ipython3",
   "version": "3.12.5"
  }
 },
 "nbformat": 4,
 "nbformat_minor": 2
}
