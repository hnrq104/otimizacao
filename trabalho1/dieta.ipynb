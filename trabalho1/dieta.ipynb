{
 "cells": [
  {
   "cell_type": "code",
   "execution_count": 20,
   "metadata": {},
   "outputs": [],
   "source": [
    "import csv\n",
    "''' Depois de tratar o texto, e guardar os csv's em (letras.csv), (nutricao.csv)\n",
    "    Podemos de fato começar a aplicar o método do simplex para determinar as melhores dietas'''\n",
    "\n",
    "nomes = ['HENRIQUE','LUCAS','RAFAEL'] #nossos nomes\n",
    "\n",
    "#nutrientes da que nossa dieta precisa satisfazer \n",
    "nutrientes_minimos = ['Caloria','Calcio','VitaminaA','Riboflavina','AcidoAscorbico'] \n",
    "\n",
    "dieta_prodx_por_letra = dict() #dicionario de letra para dieta e prodx\n",
    "with open('letras.csv',newline='') as csvfile:\n",
    "    reader = csv.DictReader(csvfile)\n",
    "    for row in reader:\n",
    "        dieta_prodx_por_letra[row['Letra']] = (float(row['Dieta']),float(row['ProdutoX']))"
   ]
  },
  {
   "cell_type": "markdown",
   "metadata": {},
   "source": [
    "Vamos definir agora nosso problema de minimização!\n",
    "\n",
    "Se gostaríamos de reduzir o custo, nossas variáveis serão todas $x_i$, onde $x_i$ significa quantos dólares gastamos no alimento $i$.\n",
    "Como o médico nos passou quantidades mínimas para suprir de nutrientes, essas quantidades formarão nossa matriz de restrição.\n",
    "\n",
    "Teremos algo do tipo:\n",
    "$$\n",
    "    x_1c_1 + x_2c_2 + ... + x_nc_n \\geq c\\\\\n",
    "    x_1p_1 + x_2p_2 + ... + x_np_n \\geq p\\\\\n",
    "    x_1v_1 + x_2v_2 + ... + x_nv_n \\geq v\\\\\n",
    "    x_1r_1 + x_2r_2 + ... + x_nr_n \\geq r\\\\\n",
    "    x_1a_1 + x_2a_2 + ... + x_na_n \\geq a\\\\\n",
    "$$\n",
    "\n",
    "Onde $c_i$ é quanto de calórias o alimento $i$ dá por unidade de dolar gasto e $c$ é a quantidade mínima de calorias que o médico nos recomendou. (Fiz a mesma coisa para os outros nutrientes)\n",
    "\n",
    "Como isso não está exatamente na forma padrão, teremos que multiplicar por -1 todas as linhas, de forma a tornar todo $\\geq$ em $\\leq$."
   ]
  },
  {
   "cell_type": "markdown",
   "metadata": {},
   "source": []
  },
  {
   "cell_type": "code",
   "execution_count": 52,
   "metadata": {},
   "outputs": [],
   "source": [
    "''' ideia \n",
    "M = [ [c1,c2,c3,...,cn],\n",
    "      [p1,p2,p3,...,pn],\n",
    "      ...\n",
    "    ]\n",
    "'''\n",
    "alimentos = []\n",
    "with open('nutricao.csv','r',newline='') as csvfile:\n",
    "    reader = csv.DictReader(csvfile)\n",
    "    for row in reader:\n",
    "        alimentos.append(row)"
   ]
  },
  {
   "cell_type": "code",
   "execution_count": 53,
   "metadata": {},
   "outputs": [],
   "source": [
    "matriz_sem_prod_x = []\n",
    "for nutriente in nutrientes_minimos:\n",
    "    linha_nutri = [-float(x[nutriente]) for x in alimentos]\n",
    "    matriz_sem_prod_x.append(linha_nutri)\n"
   ]
  },
  {
   "cell_type": "code",
   "execution_count": 48,
   "metadata": {},
   "outputs": [],
   "source": [
    "#com a matriz de restrição sem o produto X pronta, já estamos quase finalizados, basta descobrir quanto produto X nos dá e o B para cada nome!\n",
    "from copy import deepcopy\n",
    "import numpy as np\n",
    "import scipy.optimize\n",
    "\n",
    "def matriz(nome:str):\n",
    "    m = deepcopy(matriz_sem_prod_x)\n",
    "    for i in range(5): #são cinco nutrientes\n",
    "        if i < len(nome):\n",
    "            letra = nome[i].upper()\n",
    "            m[i].append(-float(dieta_prodx_por_letra[letra][1]))\n",
    "        else: \n",
    "            m[i].append(0.)\n",
    "    return np.array(m)\n",
    "\n",
    "def restricoes(nome):\n",
    "    r = []\n",
    "    for i in range(5):\n",
    "        if i < len(nome):\n",
    "            letra = nome[i].upper()\n",
    "            r.append(-float(dieta_prodx_por_letra[letra][0]))\n",
    "        else:\n",
    "            r.append(0.)\n",
    "    return np.array(r)\n",
    "\n",
    "\n",
    "\n",
    "def dieta(nome:str,method:str):\n",
    "    m = matriz(nome)\n",
    "    r = restricoes(nome)\n",
    "    c = np.ones(len(alimentos) + 1) # esse é o funcional linear que será minizado\n",
    "    return scipy.optimize.linprog(c=c,A_ub=m,b_ub=r,method=method)"
   ]
  },
  {
   "cell_type": "code",
   "execution_count": 51,
   "metadata": {},
   "outputs": [
    {
     "data": {
      "text/plain": [
       "        message: Optimization terminated successfully. (HiGHS Status 7: Optimal)\n",
       "        success: True\n",
       "         status: 0\n",
       "            fun: 0.7160984750676888\n",
       "              x: [ 8.436e-02  0.000e+00 ...  0.000e+00  6.317e-01]\n",
       "            nit: 3\n",
       "          lower:  residual: [ 8.436e-02  0.000e+00 ...  0.000e+00\n",
       "                              6.317e-01]\n",
       "                 marginals: [ 0.000e+00  6.998e-01 ...  3.448e-01\n",
       "                              0.000e+00]\n",
       "          upper:  residual: [       inf        inf ...        inf\n",
       "                                    inf]\n",
       "                 marginals: [ 0.000e+00  0.000e+00 ...  0.000e+00\n",
       "                              0.000e+00]\n",
       "          eqlin:  residual: []\n",
       "                 marginals: []\n",
       "        ineqlin:  residual: [ 1.736e+01  1.297e+01  8.228e+01  0.000e+00\n",
       "                              0.000e+00]\n",
       "                 marginals: [-0.000e+00 -0.000e+00 -0.000e+00 -1.464e-02\n",
       "                             -4.279e-04]\n",
       " mip_node_count: 0\n",
       " mip_dual_bound: 0.0\n",
       "        mip_gap: 0.0"
      ]
     },
     "execution_count": 51,
     "metadata": {},
     "output_type": "execute_result"
    }
   ],
   "source": [
    "dieta('henrique','highs')"
   ]
  }
 ],
 "metadata": {
  "kernelspec": {
   "display_name": "icp363",
   "language": "python",
   "name": "python3"
  },
  "language_info": {
   "codemirror_mode": {
    "name": "ipython",
    "version": 3
   },
   "file_extension": ".py",
   "mimetype": "text/x-python",
   "name": "python",
   "nbconvert_exporter": "python",
   "pygments_lexer": "ipython3",
   "version": "3.12.5"
  }
 },
 "nbformat": 4,
 "nbformat_minor": 2
}
