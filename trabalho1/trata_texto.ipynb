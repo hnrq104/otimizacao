{
 "cells": [
  {
   "cell_type": "code",
   "execution_count": 1,
   "metadata": {},
   "outputs": [
    {
     "data": {
      "text/plain": [
       "'primeiro tratar tabela.txt'"
      ]
     },
     "execution_count": 1,
     "metadata": {},
     "output_type": "execute_result"
    }
   ],
   "source": [
    "import csv\n",
    "'''primeiro tratar tabela.txt'''"
   ]
  },
  {
   "cell_type": "code",
   "execution_count": 2,
   "metadata": {},
   "outputs": [
    {
     "name": "stdout",
     "output_type": "stream",
     "text": [
      "[['A', '7', '63'], ['B', '60', '52'], ['C', '83', '59'], ['D', '10', '85'], ['E', '39', '82'], ['F', '59', '58'], ['G', '38', '50'], ['H', '30', '69'], ['I', '65', '44'], ['J', '27', '26'], ['K', '91', '30'], ['L', '68', '43'], ['M', '49', '90'], ['N', '6', '91'], ['O', '10', '45'], ['P', '32', '82'], ['Q', '51', '98'], ['R', '47', '67'], ['S', '20', '97'], ['T', '66', '28'], ['U', '78', '54'], ['V', '81', '33'], ['W', '81', '59'], ['X', '61', '61'], ['Y', '0', '39'], ['Z', '86', '83']]\n"
     ]
    }
   ],
   "source": [
    "tabela_letras = open('tabela.txt','r').read().splitlines()\n",
    "minhas_linhas = []\n",
    "for line in tabela_letras:\n",
    "    values = line.split()\n",
    "    minhas_linhas.append(values[:3])\n",
    "    minhas_linhas.append(values[3:6])\n",
    "\n",
    "minhas_linhas.sort(key= lambda x : x[0])\n",
    "\n",
    "print(minhas_linhas,sep='\\n')\n",
    "\n",
    "with open('letras.csv','w',newline='') as f:\n",
    "    writer = csv.writer(f)\n",
    "    writer.writerow(['Letra','Dieta','ProdutoX'])\n",
    "    writer.writerows(minhas_linhas)"
   ]
  },
  {
   "cell_type": "code",
   "execution_count": 3,
   "metadata": {},
   "outputs": [],
   "source": [
    "''' nutri por unidade'''\n",
    "tabela_nutricao = open('nutri_por_unidade.txt','r').read().splitlines()\n",
    "\n",
    "with open('nutricao.csv','w',newline='') as f:\n",
    "    writer = csv.writer(f)\n",
    "    writer.writerow(\n",
    "        ['Numero','Mercadoria','Caloria', 'Proteina', 'Calcio', 'Ferro','VitaminaA',\n",
    "         'Tiamina','Riboflavina','Niacina','AcidoAscorbico'])\n",
    "    for line in tabela_nutricao:\n",
    "        l = line.replace(',','.').split()\n",
    "        size = len(l)\n",
    "        val_numericos = l[-9:] #valores numericos\n",
    "        val_numericos = [x.replace('-','0') for x in val_numericos]\n",
    "        nome = \" \".join(l[1:-9]) #nome do alimento\n",
    "        num = l[0].removesuffix('.') #numero da frente sem ponto\n",
    "        writer.writerow([num]+[nome]+val_numericos)"
   ]
  }
 ],
 "metadata": {
  "kernelspec": {
   "display_name": "base",
   "language": "python",
   "name": "python3"
  },
  "language_info": {
   "codemirror_mode": {
    "name": "ipython",
    "version": 3
   },
   "file_extension": ".py",
   "mimetype": "text/x-python",
   "name": "python",
   "nbconvert_exporter": "python",
   "pygments_lexer": "ipython3",
   "version": "3.12.5"
  }
 },
 "nbformat": 4,
 "nbformat_minor": 2
}
